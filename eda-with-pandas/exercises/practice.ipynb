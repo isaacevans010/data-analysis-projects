import pandas as pd
import numpy as np

irises_df = pd.read_csv("C:/Users/fibdi/Downloads/iris_extended.csv")
irises_df.head(12)