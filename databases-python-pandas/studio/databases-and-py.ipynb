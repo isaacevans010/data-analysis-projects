{
    "cells": [
        {
            "attachments": {},
            "cell_type": "markdown",
            "metadata": {
                "azdata_cell_guid": "54326aff-51cd-4766-8046-828a92489c6d"
            },
            "source": [
                "# Studio: Working with Databases in Python\n",
                "\n",
                "For today's studio, we will be using the [TV Shows dataset](https://www.kaggle.com/ruchi798/tv-shows-on-netflix-prime-video-hulu-and-disney) from Kaggle. We have already downloaded the CSV for you.\n",
                "\n",
                "You will also be using the watchlist you just created to figure out which streaming services contain the shows that you want to watch next so you can decide which one is worth the money to you.\n",
                "\n",
                "As you complete the different tasks in the studio, you may choose between using Pandas or SQL. Remember that during the prep work, we learned that one is oftentimes more efficient at certain tasks than the other, so choose wisely!"
            ]
        },
        {
            "attachments": {},
            "cell_type": "markdown",
            "metadata": {
                "azdata_cell_guid": "00bc62ef-6c46-40a2-bdad-a3250a003ce7"
            },
            "source": [
                "## My Watchlist\n",
                "\n",
                "If you would like, please use this space to make note of your watchlist by editing the text cell."
            ]
        },
        {
            "cell_type": "code",
            "execution_count": null,
            "metadata": {},
            "outputs": [],
            "source": [
                "# "
            ]
        },
        {
            "cell_type": "markdown",
            "metadata": {
                "azdata_cell_guid": "040bdac5-f7fc-474f-b112-1d807249ad0a"
            },
            "source": [
                "## Database Setup\n",
                "\n",
                "To start with, import the necessary libraries and create a dataframe from the provided CSV. Print the info out for the dataframe. After that, you may drop the column called `Unnamed: 0` and rename any columns with spaces in the names or unusual characters such as `\"+\"`. Print out the info for the dataframe again to ensure that your changes were effective."
            ]
        },
        {
            "cell_type": "code",
            "execution_count": 2,
            "metadata": {
                "azdata_cell_guid": "965f15d3-27b1-43ed-97e4-8c6fd482476c",
                "tags": []
            },
            "outputs": [],
            "source": [
                "import pandas as pd\n",
                "import sqlite3 as sql\n",
                "\n",
                "df = pd.read_csv(r\"C:\\Users\\fibdi\\Downloads\\data-analysis-projects\\databases-python-pandas\\studio\\tv_shows.csv\")"
            ]
        },
        {
            "attachments": {},
            "cell_type": "markdown",
            "metadata": {
                "azdata_cell_guid": "93875e01-f1ec-45ab-b8b3-c0fe09c89c41"
            },
            "source": [
                "With your dataframe at the ready, create a new database called `tv`. Add a new table to your database called `shows` using the data in the dataframe. "
            ]
        },
        {
            "cell_type": "code",
            "execution_count": 7,
            "metadata": {
                "azdata_cell_guid": "cae4affc-d930-4649-9c39-551475a83b5b",
                "tags": []
            },
            "outputs": [
                {
                    "data": {
                        "text/plain": [
                            "5368"
                        ]
                    },
                    "execution_count": 7,
                    "metadata": {},
                    "output_type": "execute_result"
                }
            ],
            "source": [
                "con = sql.Connection('tv_shows.db')\n",
                "tv_shows_db = sql.connect('tv_shows.db')\n",
                "df.to_sql('shows', tv_shows_db, if_exists='replace',index=False)\n",
                "\n"
            ]
        },
        {
            "attachments": {},
            "cell_type": "markdown",
            "metadata": {
                "azdata_cell_guid": "4916f211-149f-467b-b5e4-22ad946b54f2"
            },
            "source": [
                "With your new table and database set up, print out the top 20 records in the `shows` table."
            ]
        },
        {
            "cell_type": "code",
            "execution_count": 22,
            "metadata": {
                "azdata_cell_guid": "c6aa3980-3eef-4d7d-8f04-961508662147",
                "tags": []
            },
            "outputs": [
                {
                    "name": "stdout",
                    "output_type": "stream",
                    "text": [
                        "    Unnamed: 0  ID                       Title  Year  Age    IMDb  \\\n",
                        "0            0   1                Breaking Bad  2008  18+  9.4/10   \n",
                        "1            1   2             Stranger Things  2016  16+  8.7/10   \n",
                        "2            2   3             Attack on Titan  2013  18+  9.0/10   \n",
                        "3            3   4            Better Call Saul  2015  18+  8.8/10   \n",
                        "4            4   5                        Dark  2017  16+  8.8/10   \n",
                        "5            5   6  Avatar: The Last Airbender  2005   7+  9.3/10   \n",
                        "6            6   7              Peaky Blinders  2013  18+  8.8/10   \n",
                        "7            7   8            The Walking Dead  2010  18+  8.2/10   \n",
                        "8            8   9                Black Mirror  2011  18+  8.8/10   \n",
                        "9            9  10          The Queen's Gambit  2020  18+  8.6/10   \n",
                        "10          10  11                  Mindhunter  2017  18+  8.6/10   \n",
                        "11          11  12                   Community  2009   7+  8.5/10   \n",
                        "12          12  13                      Narcos  2015  18+  8.8/10   \n",
                        "13          13  14                   Shameless  2011  18+  8.5/10   \n",
                        "14          14  15                 Money Heist  2017  18+  8.3/10   \n",
                        "15          15  16          Marvel's Daredevil  2015  18+  8.6/10   \n",
                        "16          16  17                     Lucifer  2016  16+  8.1/10   \n",
                        "17          17  18                Supernatural  2005  16+  8.4/10   \n",
                        "18          18  19                 The Witcher  2019  18+  8.2/10   \n",
                        "19          19  20                       Ozark  2017  18+  8.4/10   \n",
                        "\n",
                        "   Rotten Tomatoes  Netflix  Hulu  Prime Video  Disney+  Type  \n",
                        "0          100/100        1     0            0        0     1  \n",
                        "1           96/100        1     0            0        0     1  \n",
                        "2           95/100        1     1            0        0     1  \n",
                        "3           94/100        1     0            0        0     1  \n",
                        "4           93/100        1     0            0        0     1  \n",
                        "5           93/100        1     0            1        0     1  \n",
                        "6           93/100        1     0            0        0     1  \n",
                        "7           93/100        1     0            0        0     1  \n",
                        "8           92/100        1     0            0        0     1  \n",
                        "9           92/100        1     0            0        0     1  \n",
                        "10          90/100        1     0            0        0     1  \n",
                        "11          90/100        1     1            1        0     1  \n",
                        "12          90/100        1     0            0        0     1  \n",
                        "13          90/100        1     1            1        0     1  \n",
                        "14          90/100        1     0            0        0     1  \n",
                        "15          90/100        1     0            0        0     1  \n",
                        "16          90/100        1     0            0        0     1  \n",
                        "17          89/100        1     0            0        0     1  \n",
                        "18          89/100        1     0            0        0     1  \n",
                        "19          89/100        1     0            0        0     1  \n"
                    ]
                }
            ],
            "source": [
                "import sqlite3 as sql\n",
                "import pandas as pd\n",
                "\n",
                "df_t20shows = pd.read_sql_query(\"SELECT * FROM shows limit 20;\", tv_shows_db)\n",
                "print(df_t20shows)"
            ]
        },
        {
            "attachments": {},
            "cell_type": "markdown",
            "metadata": {
                "azdata_cell_guid": "f158ccd2-c87a-4d2c-a947-0eadd0484a3e"
            },
            "source": [
                "Now add a table that includes an id number and the titles on your watchlist."
            ]
        },
        {
            "cell_type": "code",
            "execution_count": 25,
            "metadata": {
                "azdata_cell_guid": "f95defad-521b-4112-8435-08daaac80b80"
            },
            "outputs": [],
            "source": [
                "\n",
                "with con:\n",
                "    con.executescript(\"\"\"\n",
                "        BEGIN;\n",
                "        CREATE TABLE watchlist (\n",
                "            id INTEGER NOT NULL PRIMARY KEY AUTOINCREMENT,\n",
                "            importance_rank INTEGER,\n",
                "            title TEXT\n",
                "    );\n",
                "    COMMIT;\n",
                "\"\"\")\n",
                "    sql = 'INSERT INTO watchlist (title, id, importance_rank) values (?, ?, ?)'\n",
                "data = [\n",
                "    ('The ', '1', '2'),\n",
                "    ('The Bear', '2', '1')\n",
                "        ]\n",
                "\n",
                "with con:\n",
                "    con.executemany(sql, data)"
            ]
        },
        {
            "attachments": {},
            "cell_type": "markdown",
            "metadata": {
                "azdata_cell_guid": "4716090d-63e3-4283-8245-934c4a28c750"
            },
            "source": [
                "## Working with the Data\n",
                "\n",
                "Using either Pandas or SQL, determine how many shows are on each streaming service and what the mean is for each streaming service. \n",
                "\n",
                "**Note**: You may notice that the mean represents the percentage of shows in the dataframe that are on each streaming service. Take a moment to think about why that is."
            ]
        },
        {
            "cell_type": "code",
            "execution_count": 45,
            "metadata": {
                "azdata_cell_guid": "8e4f3757-474f-4e20-b861-db973437b541"
            },
            "outputs": [],
            "source": []
        },
        {
            "attachments": {},
            "cell_type": "markdown",
            "metadata": {
                "azdata_cell_guid": "167cbd0d-ad9f-4f27-8066-e45dfdfaf421"
            },
            "source": [
                "Join your watchlist data with the shows data to determine which streaming services your watchlist shows are on and make a new table in your database using the joined data. Print out the data in your joined table to see what shows on your watchlist on in the original dataset. With the joined data, determine the percentage of your watchlist shows that are on each streaming service and how many of your watchlist shows are on each streaming service."
            ]
        },
        {
            "cell_type": "code",
            "execution_count": 45,
            "metadata": {
                "azdata_cell_guid": "b871523e-a476-4f3a-a6ac-2e251f140e84"
            },
            "outputs": [],
            "source": []
        },
        {
            "cell_type": "markdown",
            "metadata": {
                "azdata_cell_guid": "909689e4-1aae-41e3-b1f8-158ebe5ec3ca"
            },
            "source": [
                "## Results\n",
                "\n",
                "Now that you have done your analysis, make note of the answers to the following questions by editing the text cell:\n",
                "\n",
                "1. Was every show on your watchlist in the Kaggle dataset? Do you have any ideas as to why a show might not have been present?\n",
                "2. Did you include a show or shows in your watchlist that is exclusive to one of the platforms? How might that have impacted your analysis?\n",
                "2. Which streaming service(s) offered the most shows on your watchlist? Which streaming service(s) offered the least?\n",
                "3. Based on the shows you want to watch and the results of your analysis, is there a streaming service you think would be a good fit for you?"
            ]
        }
    ],
    "metadata": {
        "kernelspec": {
            "display_name": "venv",
            "language": "python",
            "name": "python3"
        },
        "language_info": {
            "codemirror_mode": {
                "name": "ipython",
                "version": 3
            },
            "file_extension": ".py",
            "mimetype": "text/x-python",
            "name": "python",
            "nbconvert_exporter": "python",
            "pygments_lexer": "ipython3",
            "version": "3.12.7"
        }
    },
    "nbformat": 4,
    "nbformat_minor": 2
}
