{
 "cells": [
  {
   "attachments": {},
   "cell_type": "markdown",
   "metadata": {
    "azdata_cell_guid": "d7b89799-a102-479f-87b7-f2759ff1962e"
   },
   "source": [
    "# Exercises: Working with Databases in Python"
   ]
  },
  {
   "attachments": {},
   "cell_type": "markdown",
   "metadata": {
    "azdata_cell_guid": "89a0b6d9-821d-44f5-9795-9519809b9108"
   },
   "source": [
    "## Import Libraries\n",
    "\n",
    "We will need `pandas` and `sqlite3`. SQLite is a small, self-contained database engine that comes with Python so you will not have to do any additional installations for this lesson. If you want to connect to a different database engine, such as SQL server, you may need additional libraries such as `sqlalchemy` or `pyodbc` and a tool called a driver which helps to connect a database to an application.\n"
   ]
  },
  {
   "cell_type": "code",
   "execution_count": 1,
   "metadata": {
    "azdata_cell_guid": "865655b0-22e9-47f4-a5df-4bfe97dda4a3",
    "tags": []
   },
   "outputs": [],
   "source": [
    "# Import sqlite3 and pandas.\n",
    "import pandas as pd\n",
    "import sqlite3 as sql"
   ]
  },
  {
   "cell_type": "markdown",
   "metadata": {
    "azdata_cell_guid": "be8436e2-68be-47f8-9fc9-06c235a6a128"
   },
   "source": [
    "## Create a Database"
   ]
  },
  {
   "cell_type": "code",
   "execution_count": 2,
   "metadata": {
    "azdata_cell_guid": "707abc33-c6ee-416e-9358-c799f1fcbb12"
   },
   "outputs": [],
   "source": [
    "# Create a new database called exercises.db.\n",
    "con = sql.Connection('books.db')"
   ]
  },
  {
   "attachments": {},
   "cell_type": "markdown",
   "metadata": {
    "azdata_cell_guid": "dc9df060-ddc9-4573-bd74-3c97323f85a7"
   },
   "source": [
    "## Create a Table\n",
    "\n",
    "Follow the steps in the article to create a table called `favorite_books.db`. This table should include columns for the title, author, and a short description of why it is a favorite."
   ]
  },
  {
   "cell_type": "code",
   "execution_count": 11,
   "metadata": {
    "azdata_cell_guid": "3cc6b80e-3fa2-4d2e-b2a9-1ea5d68ba01e"
   },
   "outputs": [],
   "source": [
    "# Create a new table in your database.\n",
    "\n",
    "with con:\n",
    "    con.executescript(\"\"\"\n",
    "        BEGIN;\n",
    "        CREATE TABLE favorite_books (\n",
    "            id INTEGER NOT NULL PRIMARY KEY AUTOINCREMENT,\n",
    "            title TEXT,\n",
    "            author TEXT,\n",
    "            description TEXT\n",
    "    );\n",
    "    COMMIT;\n",
    "\"\"\")"
   ]
  },
  {
   "cell_type": "markdown",
   "metadata": {
    "azdata_cell_guid": "e9acec60-1485-45c8-9f12-997f959d44cc"
   },
   "source": [
    "## Insert Records\n",
    "\n",
    "Add 3 entries to your table for your top 3 favorite books."
   ]
  },
  {
   "cell_type": "code",
   "execution_count": 12,
   "metadata": {
    "azdata_cell_guid": "c7b8e386-f3f4-42ad-aa91-a2da2e7904a5"
   },
   "outputs": [],
   "source": [
    "# Add your 3 favorite books to your table.\n",
    "sql = 'INSERT INTO favorite_books (title, author, description) values (?, ?, ?)'\n",
    "data = [\n",
    "    ('Kitchen', 'Banana Yoshimoto', 'Cohesive and introspective'),\n",
    "    ('Golden Son', 'Pierce Brown', 'Shocking and gripping fiction'),\n",
    "    ('The Overstory', 'Richard Powers', 'Transcendentalist modern fiction, trees')\n",
    "        ]\n",
    "\n",
    "with con:\n",
    "    con.executemany(sql, data)\n"
   ]
  },
  {
   "attachments": {},
   "cell_type": "markdown",
   "metadata": {
    "azdata_cell_guid": "b2e48ba7-b418-4418-bb16-598fb82b964c"
   },
   "source": [
    "## Query Your Table\n",
    "\n",
    "Write a `SELECT` query to output the 3 records in your table."
   ]
  },
  {
   "cell_type": "code",
   "execution_count": 13,
   "metadata": {
    "azdata_cell_guid": "c341e7e2-d635-4c26-b744-237c762f7f41",
    "tags": []
   },
   "outputs": [
    {
     "name": "stdout",
     "output_type": "stream",
     "text": [
      "(1, 'Kitchen', 'Banana Yoshimoto', 'Cohesive and introspective')\n",
      "(2, 'Golden Son', 'Pierce Brown', 'Shocking and gripping fiction')\n",
      "(3, 'The Overstory', 'Richard Powers', 'Transcendentalist modern fiction, trees')\n"
     ]
    }
   ],
   "source": [
    "# Write your SELECT query here.\n",
    "with con: \n",
    "    data = con.execute(\"SELECT * FROM favorite_books\")\n",
    "    for row in data:\n",
    "        print(row)"
   ]
  },
  {
   "cell_type": "markdown",
   "metadata": {
    "azdata_cell_guid": "2127737d-71cd-4f0d-a84e-b1db8ad54af7"
   },
   "source": [
    "## Create a New Table with Pandas\n",
    "\n",
    "Create a new table called `favorite_movies` with your top 3 favorite movies. Each movie should have an id and a title. This time, use Pandas to first make a dataframe and then write the dataframe to SQL. Write a `SELECT` query to confirm that the new table does have your top 3 favorite movies."
   ]
  },
  {
   "cell_type": "code",
   "execution_count": 16,
   "metadata": {
    "azdata_cell_guid": "b4b6dd20-ccc0-42e7-b1e7-79d8596b3f9c"
   },
   "outputs": [
    {
     "name": "stdout",
     "output_type": "stream",
     "text": [
      "   id          title            author  \\\n",
      "0   1        Kitchen  Banana Yoshimoto   \n",
      "1   2     Golden Son      Pierce Brown   \n",
      "2   3  The Overstory    Richard Powers   \n",
      "\n",
      "                               description  \n",
      "0               Cohesive and introspective  \n",
      "1            Shocking and gripping fiction  \n",
      "2  Transcendentalist modern fiction, trees  \n"
     ]
    }
   ],
   "source": [
    "# Use Pandas to make a new table in your database.\n",
    "\n",
    "import pandas as pd\n",
    "import sqlite3 as sql\n",
    "\n",
    "books_db = sql.connect('books.db')\n",
    "\n",
    "df_fave_books = pd.read_sql_query('SELECT * FROM favorite_books;', books_db)\n",
    "\n",
    "books_db.close()\n",
    "\n",
    "movies_db = sql.connect('Movies.db')\n",
    "\n",
    "df_fave_books.to_sql('favorite_books', movies_db, if_exists='replace',index=False)\n",
    "\n",
    "df_movies = pd.read_sql_query('SELECT * FROM favorite_books;', movies_db)\n",
    "\n",
    "print(df_movies.head())\n",
    "\n",
    "movies_db.close()\n",
    "\n",
    "con.close()"
   ]
  }
 ],
 "metadata": {
  "kernelspec": {
   "display_name": "venv",
   "language": "python",
   "name": "python3"
  },
  "language_info": {
   "codemirror_mode": {
    "name": "ipython",
    "version": 3
   },
   "file_extension": ".py",
   "mimetype": "text/x-python",
   "name": "python",
   "nbconvert_exporter": "python",
   "pygments_lexer": "ipython3",
   "version": "3.12.6"
  }
 },
 "nbformat": 4,
 "nbformat_minor": 4
}
