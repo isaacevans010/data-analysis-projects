{
 "cells": [
  {
   "cell_type": "code",
   "execution_count": null,
   "id": "29b51668-e44b-43c2-b2cc-834793ea15a0",
   "metadata": {},
   "outputs": [],
   "source": []
  }
 ],
 "metadata": {
  "kernelspec": {
   "display_name": "",
   "name": ""
  },
  "language_info": {
   "name": ""
  }
 },
 "nbformat": 4,
 "nbformat_minor": 5
}
